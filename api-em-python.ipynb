{
 "cells": [
  {
   "cell_type": "markdown",
   "id": "a3f9d3f0",
   "metadata": {},
   "source": [
    "# Dicionário de Dados"
   ]
  },
  {
   "attachments": {},
   "cell_type": "markdown",
   "id": "de5658a5",
   "metadata": {},
   "source": [
    "|**Nome da Coluna**\t|**Tipo do Dado**\t|**Descrição**|**Cobertura Temporal**|**Unidade De Medida**|**Contém Dados Sensíveis (LGPD)**|**Observações**|\n",
    "|:--------------|:--------------|:--------------|:--------------|:--------------|:--------------|:--------------|\n",
    "|\tagricultural_census\t|\tTexto\t|\tÚltimo censo agrícola\t|\t2022\t|\tNão listado\t|\tNão listado\t|\tAs respostas podem aparecer no formato de abrangência temporal, ano único ou ainda com o nome da pesquisa junto com o ano\t|\n",
    "|\tbalance_payments_manual\t|\tTexto\t|\tManual de Balanço de Pagamentos em uso\t|\t2022\t|\tNão listado\t|\tNão listado\t|\tNão listado\t|\n",
    "|\tcountry_code\t|\tTexto\t|\tCódigo ISO de 3 letras do país\t|\t2022\t|\tNão listado\t|\tNão listado\t|\tNão listado\t|\n",
    "|\tcountry_name\t|\tTexto\t|\tNome do país\t|\t2022\t|\tNão listado\t|\tNão listado\t|\tNão listado\t|\n",
    "|\tcurrency_unit\t|\tTexto\t|\tUnidade Monetária do País\t|\t2022\t|\tNão listado\t|\tNão listado\t|\tNão listado\t|\n",
    "|\texternal_debt_reporting\t|\tTexto\t|\tSituação do relatório da dívida externa\t|\t2022\t|\tNão listado\t|\tNão listado\t|\tNão listado\t|\n",
    "|\tgovernment_accounting\t|\tTexto\t|\tConceito de contabilidade governamental\t|\t2022\t|\tNão listado\t|\tNão listado\t|\tNão listado\t|\n",
    "|\thousehold_survey\t|\tTexto\t|\tÚltima pesquisa domiciliar\t|\t2022\t|\tNão listado\t|\tNão listado\t|\tAs respostas contêm o nome da pesquisa e o ano mais recente\t|\n",
    "|\timf_dissemination_standard\t|\tTexto\t|\tPadrão de disseminação de dados do Fundo Monetário Internacional (FMI)\t|\t2022\t|\tNão listado\t|\tNão listado\t|\tNão listado\t|\n",
    "|\tincome_group\t|\tTexto\t|\tGrupo de Renda do País\t|\t2022\t|\tNão listado\t|\tNão listado\t|\tNão listado\t|\n",
    "|\tindustrial_data\t|\tInteiro\t|\tAno dos últimos dados industriais\t|\t2022\t|\tNão listado\t|\tNão listado\t|\tNão listado\t|\n",
    "|\tlending_category\t|\tTexto\t|\tCategoria de empréstimo\t|\t2022\t|\tNão listado\t|\tNão listado\t|\tNão listado\t|\n",
    "|\tnational_accounts_base_year\t|\tTexto\t|\tAno base das contas nacionais\t|\t2022\t|\tNão listado\t|\tNão listado\t|\tNão listado\t|\n",
    "|\tnational_accounts_reference_year\t|\tInteiro\t|\tAno de referência das contas nacionais\t|\t2022\t|\tNão listado\t|\tNão listado\t|\tNão listado\t|\n",
    "|\tother_groups\t|\tTexto\t|\tOutros grupos para financiamento\t|\t2022\t|\tNão listado\t|\tNão listado\t|\tNão listado\t|\n",
    "|\tpopulation_census\t|\tTexto\t|\tÚltimo censo populacional\t|\t2022\t|\tNão listado\t|\tNão listado\t|\tAs respostas podem aparecer no formato de abrangência temporal, ano único ou ainda com o nome da pesquisa junto com o ano\t|\n",
    "|\tregion\t|\tTexto\t|\tPaís Região\t|\t2022\t|\tNão listado\t|\tNão listado\t|\tNão listado\t|\n",
    "|\tsna_methodology\t|\tTexto\t|\tMetodologia do Sistema de Contas Nacionais (SCN) utilizada\t|\t2022\t|\tNão listado\t|\tNão listado\t|\tNão listado\t|\n",
    "|\tsna_price_valuation\t|\tTexto\t|\tAvaliação de preços do Sistema de Contas Nacionais (SCN)\t|\t2022\t|\tNão listado\t|\tNão listado\t|\tNão listado\t|\n",
    "|\tsource_income_expenditure\t|\tTexto\t|\tFonte dos dados mais recentes de receitas e despesas\t|\t2022\t|\tNão listado\t|\tNão listado\t|\tAs respostas contêm o nome da pesquisa e o ano mais recente\t|\n",
    "|\tspecial_note\t|\tTexto\t|\tNotas especiais dadas pelo Banco Mundial\t|\t2022\t|\tNão listado\t|\tNão listado\t|\tNão listado\t|\n",
    "|\ttrade_system\t|\tTexto\t|\tTipo de sistema comercial\t|\t2022\t|\tNão listado\t|\tNão listado\t|\tNão listado\t|\n",
    "|\tvital_registration_complete\t|\tInteiro\t|\tRegistro vital concluído\t|\t2022\t|\tNão listado\t|\tNão listado\t|\tNão listado\t|"
   ]
  },
  {
   "cell_type": "markdown",
   "id": "4a030c3f",
   "metadata": {},
   "source": [
    "# Importando as Bibliotecas"
   ]
  },
  {
   "cell_type": "code",
   "execution_count": 1,
   "id": "78d32434",
   "metadata": {},
   "outputs": [],
   "source": [
    "# Biblioteca utilizada para carregar os dados\n",
    "import basedosdados as bd"
   ]
  },
  {
   "cell_type": "markdown",
   "id": "e0a3a002",
   "metadata": {},
   "source": [
    "# Carregando os Dados"
   ]
  },
  {
   "cell_type": "code",
   "execution_count": 9,
   "id": "a67f37ee",
   "metadata": {},
   "outputs": [
    {
     "name": "stdout",
     "output_type": "stream",
     "text": [
      "Please visit this URL to authorize this application: https://accounts.google.com/o/oauth2/auth?response_type=code&client_id=262006177488-3425ks60hkk80fssi9vpohv88g6q1iqd.apps.googleusercontent.com&redirect_uri=http%3A%2F%2Flocalhost%3A8080%2F&scope=https%3A%2F%2Fwww.googleapis.com%2Fauth%2Fcloud-platform&state=FrVbrHRTzwuByhuiwTCrBTFW1RV9Cg&access_type=offline\n"
     ]
    },
    {
     "ename": "BaseDosDadosAccessDeniedException",
     "evalue": "\nAre you sure you are using the right `billing_project_id`?\nYou must use the Project ID available in your Google Cloud console home page at https://console.cloud.google.com/home/dashboard\nIf you still don't have a Google Cloud Project, you have to create one.\nYou can set one up by following these steps: \n1. Go to this link https://console.cloud.google.com/projectselector2/home/dashboard\n2. Agree with Terms of Service if asked\n3. Click in Create Project\n4. Put a cool name in your project\n5. Hit create\n6. Rerun this command with the flag `reauth=True`. \n   Like `read_table('br_ibge_pib', 'municipios', billing_project_id=<YOUR_PROJECT_ID>, reauth=True)`",
     "output_type": "error",
     "traceback": [
      "\u001b[1;31m---------------------------------------------------------------------------\u001b[0m",
      "\u001b[1;31mForbidden\u001b[0m                                 Traceback (most recent call last)",
      "File \u001b[1;32m~\\AppData\\Local\\anaconda3\\envs\\api\\lib\\site-packages\\pandas_gbq\\gbq.py:517\u001b[0m, in \u001b[0;36mGbqConnector.run_query\u001b[1;34m(self, query, max_results, progress_bar_type, **kwargs)\u001b[0m\n\u001b[0;32m    516\u001b[0m \u001b[38;5;28;01mtry\u001b[39;00m:\n\u001b[1;32m--> 517\u001b[0m     \u001b[43mquery_reply\u001b[49m\u001b[38;5;241;43m.\u001b[39;49m\u001b[43mresult\u001b[49m\u001b[43m(\u001b[49m\u001b[43m)\u001b[49m\n\u001b[0;32m    518\u001b[0m \u001b[38;5;28;01mexcept\u001b[39;00m \u001b[38;5;28mself\u001b[39m\u001b[38;5;241m.\u001b[39mhttp_error \u001b[38;5;28;01mas\u001b[39;00m ex:\n",
      "File \u001b[1;32m~\\AppData\\Local\\anaconda3\\envs\\api\\lib\\site-packages\\google\\cloud\\bigquery\\job\\query.py:1450\u001b[0m, in \u001b[0;36mQueryJob.result\u001b[1;34m(self, page_size, max_results, retry, timeout, start_index, job_retry)\u001b[0m\n\u001b[0;32m   1448\u001b[0m         do_get_result \u001b[38;5;241m=\u001b[39m job_retry(do_get_result)\n\u001b[1;32m-> 1450\u001b[0m     \u001b[43mdo_get_result\u001b[49m\u001b[43m(\u001b[49m\u001b[43m)\u001b[49m\n\u001b[0;32m   1452\u001b[0m \u001b[38;5;28;01mexcept\u001b[39;00m exceptions\u001b[38;5;241m.\u001b[39mGoogleAPICallError \u001b[38;5;28;01mas\u001b[39;00m exc:\n",
      "File \u001b[1;32m~\\AppData\\Local\\anaconda3\\envs\\api\\lib\\site-packages\\google\\api_core\\retry.py:349\u001b[0m, in \u001b[0;36mRetry.__call__.<locals>.retry_wrapped_func\u001b[1;34m(*args, **kwargs)\u001b[0m\n\u001b[0;32m    346\u001b[0m sleep_generator \u001b[38;5;241m=\u001b[39m exponential_sleep_generator(\n\u001b[0;32m    347\u001b[0m     \u001b[38;5;28mself\u001b[39m\u001b[38;5;241m.\u001b[39m_initial, \u001b[38;5;28mself\u001b[39m\u001b[38;5;241m.\u001b[39m_maximum, multiplier\u001b[38;5;241m=\u001b[39m\u001b[38;5;28mself\u001b[39m\u001b[38;5;241m.\u001b[39m_multiplier\n\u001b[0;32m    348\u001b[0m )\n\u001b[1;32m--> 349\u001b[0m \u001b[38;5;28;01mreturn\u001b[39;00m \u001b[43mretry_target\u001b[49m\u001b[43m(\u001b[49m\n\u001b[0;32m    350\u001b[0m \u001b[43m    \u001b[49m\u001b[43mtarget\u001b[49m\u001b[43m,\u001b[49m\n\u001b[0;32m    351\u001b[0m \u001b[43m    \u001b[49m\u001b[38;5;28;43mself\u001b[39;49m\u001b[38;5;241;43m.\u001b[39;49m\u001b[43m_predicate\u001b[49m\u001b[43m,\u001b[49m\n\u001b[0;32m    352\u001b[0m \u001b[43m    \u001b[49m\u001b[43msleep_generator\u001b[49m\u001b[43m,\u001b[49m\n\u001b[0;32m    353\u001b[0m \u001b[43m    \u001b[49m\u001b[38;5;28;43mself\u001b[39;49m\u001b[38;5;241;43m.\u001b[39;49m\u001b[43m_timeout\u001b[49m\u001b[43m,\u001b[49m\n\u001b[0;32m    354\u001b[0m \u001b[43m    \u001b[49m\u001b[43mon_error\u001b[49m\u001b[38;5;241;43m=\u001b[39;49m\u001b[43mon_error\u001b[49m\u001b[43m,\u001b[49m\n\u001b[0;32m    355\u001b[0m \u001b[43m\u001b[49m\u001b[43m)\u001b[49m\n",
      "File \u001b[1;32m~\\AppData\\Local\\anaconda3\\envs\\api\\lib\\site-packages\\google\\api_core\\retry.py:191\u001b[0m, in \u001b[0;36mretry_target\u001b[1;34m(target, predicate, sleep_generator, timeout, on_error, **kwargs)\u001b[0m\n\u001b[0;32m    190\u001b[0m \u001b[38;5;28;01mtry\u001b[39;00m:\n\u001b[1;32m--> 191\u001b[0m     \u001b[38;5;28;01mreturn\u001b[39;00m \u001b[43mtarget\u001b[49m\u001b[43m(\u001b[49m\u001b[43m)\u001b[49m\n\u001b[0;32m    193\u001b[0m \u001b[38;5;66;03m# pylint: disable=broad-except\u001b[39;00m\n\u001b[0;32m    194\u001b[0m \u001b[38;5;66;03m# This function explicitly must deal with broad exceptions.\u001b[39;00m\n",
      "File \u001b[1;32m~\\AppData\\Local\\anaconda3\\envs\\api\\lib\\site-packages\\google\\cloud\\bigquery\\job\\query.py:1440\u001b[0m, in \u001b[0;36mQueryJob.result.<locals>.do_get_result\u001b[1;34m()\u001b[0m\n\u001b[0;32m   1438\u001b[0m     \u001b[38;5;28mself\u001b[39m\u001b[38;5;241m.\u001b[39m_job_retry \u001b[38;5;241m=\u001b[39m job_retry\n\u001b[1;32m-> 1440\u001b[0m \u001b[38;5;28;43msuper\u001b[39;49m\u001b[43m(\u001b[49m\u001b[43mQueryJob\u001b[49m\u001b[43m,\u001b[49m\u001b[43m \u001b[49m\u001b[38;5;28;43mself\u001b[39;49m\u001b[43m)\u001b[49m\u001b[38;5;241;43m.\u001b[39;49m\u001b[43mresult\u001b[49m\u001b[43m(\u001b[49m\u001b[43mretry\u001b[49m\u001b[38;5;241;43m=\u001b[39;49m\u001b[43mretry\u001b[49m\u001b[43m,\u001b[49m\u001b[43m \u001b[49m\u001b[43mtimeout\u001b[49m\u001b[38;5;241;43m=\u001b[39;49m\u001b[43mtimeout\u001b[49m\u001b[43m)\u001b[49m\n\u001b[0;32m   1442\u001b[0m \u001b[38;5;66;03m# Since the job could already be \"done\" (e.g. got a finished job\u001b[39;00m\n\u001b[0;32m   1443\u001b[0m \u001b[38;5;66;03m# via client.get_job), the superclass call to done() might not\u001b[39;00m\n\u001b[0;32m   1444\u001b[0m \u001b[38;5;66;03m# set the self._query_results cache.\u001b[39;00m\n",
      "File \u001b[1;32m~\\AppData\\Local\\anaconda3\\envs\\api\\lib\\site-packages\\google\\cloud\\bigquery\\job\\base.py:727\u001b[0m, in \u001b[0;36m_AsyncJob.result\u001b[1;34m(self, retry, timeout)\u001b[0m\n\u001b[0;32m    726\u001b[0m kwargs \u001b[38;5;241m=\u001b[39m {} \u001b[38;5;28;01mif\u001b[39;00m retry \u001b[38;5;129;01mis\u001b[39;00m DEFAULT_RETRY \u001b[38;5;28;01melse\u001b[39;00m {\u001b[38;5;124m\"\u001b[39m\u001b[38;5;124mretry\u001b[39m\u001b[38;5;124m\"\u001b[39m: retry}\n\u001b[1;32m--> 727\u001b[0m \u001b[38;5;28;01mreturn\u001b[39;00m \u001b[38;5;28msuper\u001b[39m(_AsyncJob, \u001b[38;5;28mself\u001b[39m)\u001b[38;5;241m.\u001b[39mresult(timeout\u001b[38;5;241m=\u001b[39mtimeout, \u001b[38;5;241m*\u001b[39m\u001b[38;5;241m*\u001b[39mkwargs)\n",
      "File \u001b[1;32m~\\AppData\\Local\\anaconda3\\envs\\api\\lib\\site-packages\\google\\api_core\\future\\polling.py:261\u001b[0m, in \u001b[0;36mPollingFuture.result\u001b[1;34m(self, timeout, retry, polling)\u001b[0m\n\u001b[0;32m    258\u001b[0m \u001b[38;5;28;01mif\u001b[39;00m \u001b[38;5;28mself\u001b[39m\u001b[38;5;241m.\u001b[39m_exception \u001b[38;5;129;01mis\u001b[39;00m \u001b[38;5;129;01mnot\u001b[39;00m \u001b[38;5;28;01mNone\u001b[39;00m:\n\u001b[0;32m    259\u001b[0m     \u001b[38;5;66;03m# pylint: disable=raising-bad-type\u001b[39;00m\n\u001b[0;32m    260\u001b[0m     \u001b[38;5;66;03m# Pylint doesn't recognize that this is valid in this case.\u001b[39;00m\n\u001b[1;32m--> 261\u001b[0m     \u001b[38;5;28;01mraise\u001b[39;00m \u001b[38;5;28mself\u001b[39m\u001b[38;5;241m.\u001b[39m_exception\n\u001b[0;32m    263\u001b[0m \u001b[38;5;28;01mreturn\u001b[39;00m \u001b[38;5;28mself\u001b[39m\u001b[38;5;241m.\u001b[39m_result\n",
      "\u001b[1;31mForbidden\u001b[0m: 403 Access Denied: Table basedosdados:mundo_wb_wwbi.country_finance: User does not have permission to query table basedosdados:mundo_wb_wwbi.country_finance, or perhaps it does not exist in location US.\n\n(job ID: ed228b62-f055-4882-a735-c29c24292df2)\n\n               -----Query Job SQL Follows-----                \n\n    |    .    |    .    |    .    |    .    |    .    |\n   1:\n   2:        SELECT * \n   3:        FROM `basedosdados.mundo_wb_wwbi.country_finance`\n    |    .    |    .    |    .    |    .    |    .    |",
      "\nDuring handling of the above exception, another exception occurred:\n",
      "\u001b[1;31mGenericGBQException\u001b[0m                       Traceback (most recent call last)",
      "File \u001b[1;32m~\\AppData\\Local\\anaconda3\\envs\\api\\lib\\site-packages\\basedosdados\\download\\download.py:82\u001b[0m, in \u001b[0;36mread_sql\u001b[1;34m(query, billing_project_id, from_file, reauth, use_bqstorage_api)\u001b[0m\n\u001b[0;32m     77\u001b[0m     bigquery_storage_v1\u001b[38;5;241m.\u001b[39mclient\u001b[38;5;241m.\u001b[39mBigQueryReadClient\u001b[38;5;241m.\u001b[39mread_rows \u001b[38;5;241m=\u001b[39m partialmethod(\n\u001b[0;32m     78\u001b[0m         bigquery_storage_v1\u001b[38;5;241m.\u001b[39mclient\u001b[38;5;241m.\u001b[39mBigQueryReadClient\u001b[38;5;241m.\u001b[39mread_rows,\n\u001b[0;32m     79\u001b[0m         timeout\u001b[38;5;241m=\u001b[39m\u001b[38;5;241m3600\u001b[39m \u001b[38;5;241m*\u001b[39m \u001b[38;5;241m2\u001b[39m,\n\u001b[0;32m     80\u001b[0m     )\n\u001b[1;32m---> 82\u001b[0m     \u001b[38;5;28;01mreturn\u001b[39;00m \u001b[43mpandas_gbq\u001b[49m\u001b[38;5;241;43m.\u001b[39;49m\u001b[43mread_gbq\u001b[49m\u001b[43m(\u001b[49m\n\u001b[0;32m     83\u001b[0m \u001b[43m        \u001b[49m\u001b[43mquery\u001b[49m\u001b[43m,\u001b[49m\n\u001b[0;32m     84\u001b[0m \u001b[43m        \u001b[49m\u001b[43mcredentials\u001b[49m\u001b[38;5;241;43m=\u001b[39;49m\u001b[43mcredentials\u001b[49m\u001b[43m(\u001b[49m\u001b[43mfrom_file\u001b[49m\u001b[38;5;241;43m=\u001b[39;49m\u001b[43mfrom_file\u001b[49m\u001b[43m,\u001b[49m\u001b[43m \u001b[49m\u001b[43mreauth\u001b[49m\u001b[38;5;241;43m=\u001b[39;49m\u001b[43mreauth\u001b[49m\u001b[43m)\u001b[49m\u001b[43m,\u001b[49m\n\u001b[0;32m     85\u001b[0m \u001b[43m        \u001b[49m\u001b[43mproject_id\u001b[49m\u001b[38;5;241;43m=\u001b[39;49m\u001b[43mbilling_project_id\u001b[49m\u001b[43m,\u001b[49m\n\u001b[0;32m     86\u001b[0m \u001b[43m        \u001b[49m\u001b[43muse_bqstorage_api\u001b[49m\u001b[38;5;241;43m=\u001b[39;49m\u001b[43muse_bqstorage_api\u001b[49m\u001b[43m,\u001b[49m\n\u001b[0;32m     87\u001b[0m \u001b[43m    \u001b[49m\u001b[43m)\u001b[49m\n\u001b[0;32m     89\u001b[0m \u001b[38;5;28;01mexcept\u001b[39;00m GenericGBQException \u001b[38;5;28;01mas\u001b[39;00m e:\n",
      "File \u001b[1;32m~\\AppData\\Local\\anaconda3\\envs\\api\\lib\\site-packages\\pandas_gbq\\gbq.py:921\u001b[0m, in \u001b[0;36mread_gbq\u001b[1;34m(query_or_table, project_id, index_col, col_order, reauth, auth_local_webserver, dialect, location, configuration, credentials, use_bqstorage_api, max_results, verbose, private_key, progress_bar_type, dtypes)\u001b[0m\n\u001b[0;32m    920\u001b[0m \u001b[38;5;28;01mif\u001b[39;00m _is_query(query_or_table):\n\u001b[1;32m--> 921\u001b[0m     final_df \u001b[38;5;241m=\u001b[39m \u001b[43mconnector\u001b[49m\u001b[38;5;241;43m.\u001b[39;49m\u001b[43mrun_query\u001b[49m\u001b[43m(\u001b[49m\n\u001b[0;32m    922\u001b[0m \u001b[43m        \u001b[49m\u001b[43mquery_or_table\u001b[49m\u001b[43m,\u001b[49m\n\u001b[0;32m    923\u001b[0m \u001b[43m        \u001b[49m\u001b[43mconfiguration\u001b[49m\u001b[38;5;241;43m=\u001b[39;49m\u001b[43mconfiguration\u001b[49m\u001b[43m,\u001b[49m\n\u001b[0;32m    924\u001b[0m \u001b[43m        \u001b[49m\u001b[43mmax_results\u001b[49m\u001b[38;5;241;43m=\u001b[39;49m\u001b[43mmax_results\u001b[49m\u001b[43m,\u001b[49m\n\u001b[0;32m    925\u001b[0m \u001b[43m        \u001b[49m\u001b[43mprogress_bar_type\u001b[49m\u001b[38;5;241;43m=\u001b[39;49m\u001b[43mprogress_bar_type\u001b[49m\u001b[43m,\u001b[49m\n\u001b[0;32m    926\u001b[0m \u001b[43m        \u001b[49m\u001b[43mdtypes\u001b[49m\u001b[38;5;241;43m=\u001b[39;49m\u001b[43mdtypes\u001b[49m\u001b[43m,\u001b[49m\n\u001b[0;32m    927\u001b[0m \u001b[43m    \u001b[49m\u001b[43m)\u001b[49m\n\u001b[0;32m    928\u001b[0m \u001b[38;5;28;01melse\u001b[39;00m:\n",
      "File \u001b[1;32m~\\AppData\\Local\\anaconda3\\envs\\api\\lib\\site-packages\\pandas_gbq\\gbq.py:519\u001b[0m, in \u001b[0;36mGbqConnector.run_query\u001b[1;34m(self, query, max_results, progress_bar_type, **kwargs)\u001b[0m\n\u001b[0;32m    518\u001b[0m \u001b[38;5;28;01mexcept\u001b[39;00m \u001b[38;5;28mself\u001b[39m\u001b[38;5;241m.\u001b[39mhttp_error \u001b[38;5;28;01mas\u001b[39;00m ex:\n\u001b[1;32m--> 519\u001b[0m     \u001b[38;5;28;43mself\u001b[39;49m\u001b[38;5;241;43m.\u001b[39;49m\u001b[43mprocess_http_error\u001b[49m\u001b[43m(\u001b[49m\u001b[43mex\u001b[49m\u001b[43m)\u001b[49m\n\u001b[0;32m    521\u001b[0m \u001b[38;5;66;03m# Avoid attempting to download results from DML queries, which have no\u001b[39;00m\n\u001b[0;32m    522\u001b[0m \u001b[38;5;66;03m# destination.\u001b[39;00m\n",
      "File \u001b[1;32m~\\AppData\\Local\\anaconda3\\envs\\api\\lib\\site-packages\\pandas_gbq\\gbq.py:386\u001b[0m, in \u001b[0;36mGbqConnector.process_http_error\u001b[1;34m(ex)\u001b[0m\n\u001b[0;32m    384\u001b[0m     \u001b[38;5;28;01mraise\u001b[39;00m QueryTimeout(\u001b[38;5;124m\"\u001b[39m\u001b[38;5;124mReason: \u001b[39m\u001b[38;5;132;01m{0}\u001b[39;00m\u001b[38;5;124m\"\u001b[39m\u001b[38;5;241m.\u001b[39mformat(ex))\n\u001b[1;32m--> 386\u001b[0m \u001b[38;5;28;01mraise\u001b[39;00m GenericGBQException(\u001b[38;5;124m\"\u001b[39m\u001b[38;5;124mReason: \u001b[39m\u001b[38;5;132;01m{0}\u001b[39;00m\u001b[38;5;124m\"\u001b[39m\u001b[38;5;241m.\u001b[39mformat(ex))\n",
      "\u001b[1;31mGenericGBQException\u001b[0m: Reason: 403 Access Denied: Table basedosdados:mundo_wb_wwbi.country_finance: User does not have permission to query table basedosdados:mundo_wb_wwbi.country_finance, or perhaps it does not exist in location US.\n\n(job ID: ed228b62-f055-4882-a735-c29c24292df2)\n\n               -----Query Job SQL Follows-----                \n\n    |    .    |    .    |    .    |    .    |    .    |\n   1:\n   2:        SELECT * \n   3:        FROM `basedosdados.mundo_wb_wwbi.country_finance`\n    |    .    |    .    |    .    |    .    |    .    |",
      "\nThe above exception was the direct cause of the following exception:\n",
      "\u001b[1;31mBaseDosDadosAccessDeniedException\u001b[0m         Traceback (most recent call last)",
      "Cell \u001b[1;32mIn[9], line 1\u001b[0m\n\u001b[1;32m----> 1\u001b[0m df \u001b[38;5;241m=\u001b[39m \u001b[43mbd\u001b[49m\u001b[38;5;241;43m.\u001b[39;49m\u001b[43mread_table\u001b[49m\u001b[43m(\u001b[49m\u001b[43mdataset_id\u001b[49m\u001b[38;5;241;43m=\u001b[39;49m\u001b[38;5;124;43m'\u001b[39;49m\u001b[38;5;124;43mmundo_wb_wwbi\u001b[39;49m\u001b[38;5;124;43m'\u001b[39;49m\u001b[43m,\u001b[49m\n\u001b[0;32m      2\u001b[0m \u001b[43m                   \u001b[49m\u001b[43mtable_id\u001b[49m\u001b[38;5;241;43m=\u001b[39;49m\u001b[38;5;124;43m'\u001b[39;49m\u001b[38;5;124;43mcountry_finance\u001b[39;49m\u001b[38;5;124;43m'\u001b[39;49m\u001b[43m,\u001b[49m\n\u001b[0;32m      3\u001b[0m \u001b[43m                   \u001b[49m\u001b[43mbilling_project_id\u001b[49m\u001b[38;5;241;43m=\u001b[39;49m\u001b[38;5;124;43m\"\u001b[39;49m\u001b[38;5;124;43mapi-segunda\u001b[39;49m\u001b[38;5;124;43m\"\u001b[39;49m\u001b[43m,\u001b[49m\u001b[43m \u001b[49m\u001b[43mreauth\u001b[49m\u001b[38;5;241;43m=\u001b[39;49m\u001b[38;5;28;43;01mTrue\u001b[39;49;00m\u001b[43m)\u001b[49m\n",
      "File \u001b[1;32m~\\AppData\\Local\\anaconda3\\envs\\api\\lib\\site-packages\\basedosdados\\download\\download.py:163\u001b[0m, in \u001b[0;36mread_table\u001b[1;34m(dataset_id, table_id, billing_project_id, query_project_id, limit, from_file, reauth, use_bqstorage_api)\u001b[0m\n\u001b[0;32m    160\u001b[0m \u001b[38;5;28;01melse\u001b[39;00m:\n\u001b[0;32m    161\u001b[0m     \u001b[38;5;28;01mraise\u001b[39;00m BaseDosDadosException(\u001b[38;5;124m\"\u001b[39m\u001b[38;5;124mBoth table_id and dataset_id should be filled.\u001b[39m\u001b[38;5;124m\"\u001b[39m)\n\u001b[1;32m--> 163\u001b[0m \u001b[38;5;28;01mreturn\u001b[39;00m \u001b[43mread_sql\u001b[49m\u001b[43m(\u001b[49m\n\u001b[0;32m    164\u001b[0m \u001b[43m    \u001b[49m\u001b[43mquery\u001b[49m\u001b[43m,\u001b[49m\n\u001b[0;32m    165\u001b[0m \u001b[43m    \u001b[49m\u001b[43mbilling_project_id\u001b[49m\u001b[38;5;241;43m=\u001b[39;49m\u001b[43mbilling_project_id\u001b[49m\u001b[43m,\u001b[49m\n\u001b[0;32m    166\u001b[0m \u001b[43m    \u001b[49m\u001b[43mfrom_file\u001b[49m\u001b[38;5;241;43m=\u001b[39;49m\u001b[43mfrom_file\u001b[49m\u001b[43m,\u001b[49m\n\u001b[0;32m    167\u001b[0m \u001b[43m    \u001b[49m\u001b[43mreauth\u001b[49m\u001b[38;5;241;43m=\u001b[39;49m\u001b[43mreauth\u001b[49m\u001b[43m,\u001b[49m\n\u001b[0;32m    168\u001b[0m \u001b[43m    \u001b[49m\u001b[43muse_bqstorage_api\u001b[49m\u001b[38;5;241;43m=\u001b[39;49m\u001b[43muse_bqstorage_api\u001b[49m\u001b[43m,\u001b[49m\n\u001b[0;32m    169\u001b[0m \u001b[43m\u001b[49m\u001b[43m)\u001b[49m\n",
      "File \u001b[1;32m~\\AppData\\Local\\anaconda3\\envs\\api\\lib\\site-packages\\basedosdados\\download\\download.py:91\u001b[0m, in \u001b[0;36mread_sql\u001b[1;34m(query, billing_project_id, from_file, reauth, use_bqstorage_api)\u001b[0m\n\u001b[0;32m     89\u001b[0m \u001b[38;5;28;01mexcept\u001b[39;00m GenericGBQException \u001b[38;5;28;01mas\u001b[39;00m e:\n\u001b[0;32m     90\u001b[0m     \u001b[38;5;28;01mif\u001b[39;00m \u001b[38;5;124m\"\u001b[39m\u001b[38;5;124mReason: 403\u001b[39m\u001b[38;5;124m\"\u001b[39m \u001b[38;5;129;01min\u001b[39;00m \u001b[38;5;28mstr\u001b[39m(e):\n\u001b[1;32m---> 91\u001b[0m         \u001b[38;5;28;01mraise\u001b[39;00m BaseDosDadosAccessDeniedException \u001b[38;5;28;01mfrom\u001b[39;00m \u001b[38;5;21;01me\u001b[39;00m\n\u001b[0;32m     93\u001b[0m     \u001b[38;5;28;01mif\u001b[39;00m re\u001b[38;5;241m.\u001b[39mmatch(\u001b[38;5;124m\"\u001b[39m\u001b[38;5;124mReason: 400 POST .* [Pp]roject[ ]*I[Dd]\u001b[39m\u001b[38;5;124m\"\u001b[39m, \u001b[38;5;28mstr\u001b[39m(e)):\n\u001b[0;32m     94\u001b[0m         \u001b[38;5;28;01mraise\u001b[39;00m BaseDosDadosInvalidProjectIDException \u001b[38;5;28;01mfrom\u001b[39;00m \u001b[38;5;21;01me\u001b[39;00m\n",
      "\u001b[1;31mBaseDosDadosAccessDeniedException\u001b[0m: \nAre you sure you are using the right `billing_project_id`?\nYou must use the Project ID available in your Google Cloud console home page at https://console.cloud.google.com/home/dashboard\nIf you still don't have a Google Cloud Project, you have to create one.\nYou can set one up by following these steps: \n1. Go to this link https://console.cloud.google.com/projectselector2/home/dashboard\n2. Agree with Terms of Service if asked\n3. Click in Create Project\n4. Put a cool name in your project\n5. Hit create\n6. Rerun this command with the flag `reauth=True`. \n   Like `read_table('br_ibge_pib', 'municipios', billing_project_id=<YOUR_PROJECT_ID>, reauth=True)`"
     ]
    }
   ],
   "source": [
    "df = bd.read_table(dataset_id='mundo_wb_wwbi',\n",
    "                   table_id='country_finance',\n",
    "                   billing_project_id=\"api-segunda\", reauth=True)"
   ]
  },
  {
   "cell_type": "markdown",
   "id": "4d4e5158",
   "metadata": {},
   "source": [
    "# Visualizando a Tabela"
   ]
  },
  {
   "cell_type": "markdown",
   "id": "12d4b48f",
   "metadata": {},
   "source": [
    "# Criando a Função de Pesquisa"
   ]
  },
  {
   "cell_type": "markdown",
   "id": "cabe150c",
   "metadata": {},
   "source": [
    "# Recebendo os Dados do Usuário"
   ]
  }
 ],
 "metadata": {
  "kernelspec": {
   "display_name": "Python 3 (ipykernel)",
   "language": "python",
   "name": "python3"
  },
  "language_info": {
   "codemirror_mode": {
    "name": "ipython",
    "version": 3
   },
   "file_extension": ".py",
   "mimetype": "text/x-python",
   "name": "python",
   "nbconvert_exporter": "python",
   "pygments_lexer": "ipython3",
   "version": "3.10.11"
  }
 },
 "nbformat": 4,
 "nbformat_minor": 5
}
